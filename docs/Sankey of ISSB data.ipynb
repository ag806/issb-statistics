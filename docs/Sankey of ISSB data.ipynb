{
 "cells": [
  {
   "cell_type": "code",
   "execution_count": null,
   "metadata": {},
   "outputs": [],
   "source": [
    "import pandas as pd\n",
    "import datapackage\n",
    "\n",
    "p = datapackage.Package('../datapackage.json')\n",
    "dfs = {r.name: pd.DataFrame(r.read(keyed=True)) for r in p.resources}"
   ]
  },
  {
   "cell_type": "code",
   "execution_count": null,
   "metadata": {},
   "outputs": [],
   "source": [
    "prod1 = dfs['production_ecsc'].set_index(['year', 'product']).loc[2016, 'mass']\n",
    "prod2 = dfs['production_derived'].set_index(['year', 'product']).loc[2016, 'mass']\n",
    "prod2_in = dfs['production_ecsc_for_derived'].set_index(['year', 'product']).loc[2016, 'mass']\n",
    "exports = dfs['exports'].set_index(['year', 'product']).loc[2016, 'mass']"
   ]
  },
  {
   "cell_type": "code",
   "execution_count": null,
   "metadata": {},
   "outputs": [],
   "source": [
    "prod1.add(prod2, fill_value=0).sub(prod2_in, fill_value=0).sub(exports, fill_value=0)"
   ]
  },
  {
   "cell_type": "code",
   "execution_count": null,
   "metadata": {},
   "outputs": [],
   "source": [
    "supply = dfs['supply'].groupby(['product']).sum()\n",
    "supply"
   ]
  },
  {
   "cell_type": "code",
   "execution_count": null,
   "metadata": {},
   "outputs": [],
   "source": [
    "flows = []\n",
    "for i, x in prod1.iteritems():\n",
    "    e = exports[i]\n",
    "    try:\n",
    "        f = prod2_in[i]  # feedstocks for derived products\n",
    "    except KeyError:\n",
    "        f = 0\n",
    "    flows.append(('uk_production', i, i, x))\n",
    "    flows.append((i, 'export', i, e))\n",
    "    flows.append((i, 'deriv', i, f))\n",
    "    flows.append((i, 'uk_market', i, x - e - f))\n",
    "    \n",
    "for i, x in prod2.iteritems():\n",
    "    e = exports[i]\n",
    "    flows.append(('deriv', i, i, x))\n",
    "    flows.append((i, 'export', i, e))\n",
    "    flows.append((i, 'uk_market', i, x - e))\n",
    "        \n",
    "flows = pd.DataFrame(flows, columns=('source', 'target', 'material', 'value'))\n",
    "flows"
   ]
  },
  {
   "cell_type": "code",
   "execution_count": null,
   "metadata": {},
   "outputs": [],
   "source": [
    "from floweaver import *\n",
    "\n",
    "pm = Partition.Simple('process', \n",
    "['Ingots, blooms, billets and slabs',\n",
    " 'Rounds and squares for tubes',\n",
    " 'Rods and bars for reinforcement',\n",
    " 'Rods in coil',\n",
    " 'Hot rolled bars in lengths',\n",
    " 'Heavy sections, sheet piling, rails and rolled accessories',\n",
    " 'Light sections',\n",
    " 'Plates in coil and in lengths',\n",
    " 'Sheets, coated and uncoated',\n",
    " 'Bright bars', 'Cold rolled narrow strip', 'Tubes and pipes'])\n",
    "\n",
    "pmm = Partition.Simple('material', \n",
    "['Ingots, blooms, billets and slabs',\n",
    " 'Rounds and squares for tubes',\n",
    " 'Rods and bars for reinforcement',\n",
    " 'Rods in coil',\n",
    " 'Hot rolled bars in lengths',\n",
    " 'Heavy sections, sheet piling, rails and rolled accessories',\n",
    " 'Light sections',\n",
    " 'Plates in coil and in lengths',\n",
    " 'Sheets, coated and uncoated',\n",
    " 'Bright bars', 'Cold rolled narrow strip', 'Tubes and pipes'])\n",
    "\n",
    "nodes = {\n",
    "    'prod1': ProcessGroup(['uk_production']),\n",
    "    'semi1': ProcessGroup(['Ingots, blooms, billets and slabs',\n",
    " 'Rounds and squares for tubes',\n",
    " 'Rods and bars for reinforcement',\n",
    " 'Rods in coil',\n",
    " 'Hot rolled bars in lengths',\n",
    " 'Heavy sections, sheet piling, rails and rolled accessories',\n",
    " 'Light sections',\n",
    " 'Plates in coil and in lengths',\n",
    " 'Sheets, coated and uncoated'], pm),\n",
    "    'prod2': ProcessGroup(['deriv']),\n",
    "    'semi2': ProcessGroup(['Bright bars', 'Cold rolled narrow strip', 'Tubes and pipes'], pm),\n",
    "    'export': ProcessGroup(['export']),\n",
    "    'uk_market': ProcessGroup(['uk_market']),\n",
    "    \n",
    "    'e1': Waypoint(),\n",
    "}\n",
    "\n",
    "ordering = [\n",
    "    [[], ['prod1']],\n",
    "    [[], ['semi1']],\n",
    "    [['e1'], ['prod2']],\n",
    "    [[], ['semi2']],\n",
    "    [['export'], ['uk_market']],\n",
    "]\n",
    "\n",
    "bundles = [\n",
    "    Bundle('prod1', 'semi1'),\n",
    "    Bundle('semi1', 'prod2'),\n",
    "    Bundle('prod2', 'semi2'),\n",
    "    Bundle('semi1', 'export', waypoints=['e1']),\n",
    "    Bundle('semi2', 'export'),\n",
    "    Bundle('semi1', 'uk_market'),\n",
    "    Bundle('semi2', 'uk_market'),\n",
    "]\n",
    "\n",
    "sdd = SankeyDefinition(nodes, bundles, ordering, flow_partition=pmm)\n",
    "weave(sdd, flows).to_widget(width=1000, height=600) \\\n",
    ".auto_save_svg('sankey.svg')"
   ]
  },
  {
   "cell_type": "code",
   "execution_count": null,
   "metadata": {},
   "outputs": [],
   "source": []
  }
 ],
 "metadata": {
  "kernelspec": {
   "display_name": "Python 3",
   "language": "python",
   "name": "python3"
  },
  "language_info": {
   "codemirror_mode": {
    "name": "ipython",
    "version": 3
   },
   "file_extension": ".py",
   "mimetype": "text/x-python",
   "name": "python",
   "nbconvert_exporter": "python",
   "pygments_lexer": "ipython3",
   "version": "3.6.3"
  }
 },
 "nbformat": 4,
 "nbformat_minor": 2
}
